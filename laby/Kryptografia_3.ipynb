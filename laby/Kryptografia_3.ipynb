{
  "cells": [
    {
      "cell_type": "markdown",
      "metadata": {
        "id": "O4N_EaD6qK27"
      },
      "source": [
        "# RSA\n",
        "\n",
        "Rivest Shamir Adleman (RSA) jest jednym z pierwszych algorytmów asymetrycznych. Został zaprojektowany w 1977 roku i jest używany do dzisiejszego dnia. Zyskał akceptację zarówno NISTu jak i organizacji ISO/IEC oraz RFC. RSA posiada parę kluczy - publiczny oraz prywatny. Publiczny klucz może być znany każdemu i służy on do operacji szyfrowania. Klucz prywatny jest znany tylko i wyłącznie instancji, która klucze generowała. Ta sama instancja jako jedna jedyna ma możliwość odszyfrowania kryptogramów.\n",
        "\n",
        "RSA umożliwia także tworzenie podpisów cyfrowych (z ang *Digital Signatures*, czyli *DS*). Podpis cyfrowy to dodatkowy blok informacji dołączony do wiadomości, który zapewnia:\n",
        "1. *Integrity* - integralność wiadomości, czyli potwierdzenie, że nie była ona w żaden sposób modyfikowana.\n",
        "2. *Authentication* - autentykacje podpisującego, czyli potwierdzenie jego tożsamości.\n",
        "3. *Non-repudiation* - czyli wysyłający podpisaną wiadomość nie ma możliwości zaprzeczenia faktu, że to on ją podpisał, natomiast otrzymujący wiadomość nie ma możliwości zaprzeczenia faktu, iż to on ją zweryfikował. \n",
        "\n",
        "Samo haszowanie wiadomości zapewnia tylko *integirty*, natomiast utworzenie kodu MAC (*Message Authentiaction Code*) zapewnia jedynie *integrity* oraz *authentiaction*.\n",
        "\n",
        "Tworzenie podpisu cyfrowego z wykorzystaniem RSA wygląda odwrotnie niż komunikacja szyfrowana. To znaczy: podpis tworzony jest z wykorzystaniem klucza prywatnego - a więc tylko instancja generująca klucze może wiadomość podpisać. Weryfikacja odbywa się z wykorzystaniem klucza publicznego - czyli każda instancja, której nasz klucz udostępnimy, może podpis zweryfikować. \n",
        "\n",
        "Na początek zaimportujmy niezbędne biblioteki."
      ]
    },
    {
      "cell_type": "code",
      "execution_count": 1,
      "metadata": {
        "id": "F7OxWY2Mz7BD"
      },
      "outputs": [],
      "source": [
        "# !pip install pycryptodome\n",
        "import Crypto.Util.number as cu\n",
        "import hashlib as hl\n",
        "import math\n",
        "from Crypto.Hash import SHA256 as sha\n",
        "from os import urandom\n",
        "from math import log2 as l2, gcd as GCD, lcm as LCM"
      ]
    },
    {
      "cell_type": "markdown",
      "metadata": {
        "id": "64vuvjiEuP3M"
      },
      "source": [
        "**Zadanie 1**\n",
        "\n",
        "Odpowiedz na poniższe pytania. Rozważ sytuację, w której dwie instancje komunikują się ze sobą, a trzecia próbuje dokonywać nieautoryzowanych zmian w treści wiadomości na drodze jej przesyłu.\n",
        "1. Dlaczego haszowanie zapewnia tylko integrity? Podpowiedź: czy haszowanie uwzględnia jakikolwiek klucz prywatny?\n",
        "2. Dlaczego kod MAC nie zapewnia *non-repudiation*? Co (niepożądanego) może dokonać odbierający wiadomość i atakujący komunikację? Podpowiedź: czy kody MAC, w szczególności popularny kod HMAC - który zakłada użycie klucza prywatnego - w jakikolwiek sposób weryfikuje KTO i DO CZEGO go użył? Kto dysponuje, a kto NIE dysponuje kluczem prywatnym HMAC?\n",
        "3. Dlaczego podpis cyfrowy zapewnia wszystkie te trzy cechy?"
      ]
    },
    {
      "attachments": {},
      "cell_type": "markdown",
      "metadata": {},
      "source": [
        "Odp.\n",
        "\n",
        "1. zmiana w wiadomości powoduje zmianę w hashu => integrity. Ale nie wiadomo, kto hash wygenerował\n",
        "2. Kod MAC wykorzystuje klucz tajny do tworzenia skrótu - stąd zapewnia integrity oraz authentication. Nie zapewnia non-repudation, ponieważ odbiorca może MAC sfałszować (nie da się rozróżnić, która ze stron stworzyła MAC)\n",
        "3. Podpis cyfrowy może być stworzony tylko przez podpisującego, co można zweryfikować."
      ]
    },
    {
      "cell_type": "markdown",
      "metadata": {
        "id": "2qE7Uzp2xXKM"
      },
      "source": [
        "## Generowanie kluczy\n",
        "\n",
        "Algorytm generowania kluczy RSA może zostać przedstawiony w następujący sposób:\n",
        "\n",
        "1) Znajdź dwie różne i kryptograficznie bezpieczne liczby pierwsze.\n",
        "\n",
        "2) Oblicz $n = p * q$.\n",
        "\n",
        "3) Oblicz $f = (p - 1) * (q - 1)$.\n",
        "\n",
        "4) Znajdź dowolne $e$, takie, że $1 < e < f$ oraz $GCD(f, e) = 1$. GCD to największy wspólny dzielnik. Para $(e, n)$ to jest **klucz publiczny**.\n",
        "\n",
        "5) Oblicz $d = e^{-1}$ mod $f$. Para $(d, n)$ to **klucz prywatny**, przy czym tajne jest tylko $d$. "
      ]
    },
    {
      "cell_type": "markdown",
      "metadata": {
        "id": "1MRcuBhC0UHA"
      },
      "source": [
        "W ten sposób generowane parametry byłyby matematycznie poprawne, lecz kryptograficznie niebezpieczne. Ustalmy więc, że chcemy aby nasz klucz publiczny był odpwowiednio długi. Będzie to długość bitowa parametru $n$, oznaczmy ją jako $nlen = 2048$. Parametr $nlen$ zawsze przyjmuje parzyste wartości. Mając to założenie, musimy (**uwzględniając wszystkie założenia z algorytmu generowania kluczy**) dodatkowo zapewnić, że:\n",
        "\n",
        "1. $65537 ≤ e < 2^{256}$\n",
        "2. $LCM(p - 1, q - 1) \\geq e * 2^{nlen/2}$\n",
        "3. $2^{(nlen - 1)//2} < p < 2^{nlen/2}$\n",
        "4. $2^{(nlen - 1)//2} < q < 2^{nlen/2}$\n",
        "5. $|p - q| > 2^{(nlen/2) - 100}$\n",
        "\n",
        "Gdzie LCM oznacza *Least Common Multiple*, czyli najmniejszą wspólną wielokrotność. Funkcję LCM znajdziesz w bibliotece math. Do potęgowania **nie używaj** pythonowej notacji \"**\", tylko metody pow() - przetestuj obie te metody obliczania potęgi i porównaj wydajność (zadanie opcjonalne). Do obliczania wartości bezwzględnej użyj metody abs() - również standardowa metoda pythona. Resztę niezbędnych metod znajdziesz w bibliotece [Crypto.Util.number](https://pycryptodome.readthedocs.io/en/latest/src/util/util.html) zaimpoertowanej jako cu. Opis powyższych założeń możesz znaleźć w [tym](https://nvlpubs.nist.gov/nistpubs/SpecialPublications/NIST.SP.800-56Br2.pdf) dokumencie NIST-owym."
      ]
    },
    {
      "cell_type": "markdown",
      "metadata": {
        "id": "5inlXTklGGMv"
      },
      "source": [
        "**Zadanie 2**\n",
        "\n",
        "Uwzględniając wszystko powyższe, napisz metodę/metody generujące wartości $n$, $e$ oraz $d$."
      ]
    },
    {
      "cell_type": "code",
      "execution_count": 2,
      "metadata": {
        "id": "tRiOWsS7GRL9"
      },
      "outputs": [],
      "source": [
        "def log2(x):\n",
        "  return l2(x)\n",
        "\n",
        "def logger(m):\n",
        "    print(f'LOGGER::{m}')\n",
        "\n",
        "def verify_primes(p,q,nlen):\n",
        "    log_p = log2(p)\n",
        "    log_q = log2(q)\n",
        "    log_pq = log2(abs(p-q))\n",
        "    condp = ((nlen-1)//2 < log_p) and (log_p < nlen/2)\n",
        "    condq = ((nlen-1)//2 < log_q) and (log_q < nlen/2)\n",
        "    condpq = log_pq > (nlen/2 - 100)\n",
        "    return condp and condq and condpq\n",
        "\n",
        "def verify_pqe(p, q, e, nlen):\n",
        "    v1 = log2(LCM(p-1,q-1))\n",
        "    v2 = nlen/2 + log2(e)\n",
        "    return v1 >= v2\n",
        "\n",
        "def get_two_primes(nlen):\n",
        "    prime_l = (nlen)//2\n",
        "    p = cu.getPrime(prime_l)\n",
        "    q=p\n",
        "    while(p==q):\n",
        "        q = cu.getPrime(prime_l)\n",
        "    if verify_primes(p,q,nlen):\n",
        "        return p,q\n",
        "    return get_two_primes(nlen)\n",
        "\n",
        "def find_e(f):\n",
        "    e = 65537\n",
        "    if(e>=f):\n",
        "        print(\"Condition for e impossible to satisfy\")\n",
        "        return None\n",
        "    gdc = GCD(e,f)\n",
        "    log2_f = log2(f)\n",
        "    while(gdc != 1 and log2(e) < min(256, log2_f)):\n",
        "        e += 1\n",
        "        gdc = GCD(e,f)\n",
        "    if(gdc == 1):\n",
        "        return e\n",
        "    return None\n",
        "\n",
        "def generate_key(nlen=2048):\n",
        "    p,q = get_two_primes(nlen)\n",
        "    n, f = p*q, (p-1)*(q-1)\n",
        "    e = find_e(f)\n",
        "    if not verify_pqe(p,q,e,nlen):\n",
        "        return generate_key(nlen)\n",
        "    d = cu.inverse(e,f)\n",
        "    public_key = (e,n)\n",
        "    private_key = (d,n)\n",
        "    logger('private_key, public_key generated')\n",
        "    return public_key, private_key \n",
        "    "
      ]
    },
    {
      "cell_type": "markdown",
      "metadata": {
        "id": "wae-whoNGlz_"
      },
      "source": [
        "## Naiwne szyfrowanie i deszyfrowanie"
      ]
    },
    {
      "cell_type": "markdown",
      "metadata": {
        "id": "fESNrzCYNVfy"
      },
      "source": [
        "\n",
        "Naiwny algorytm szyfrowania wiadomości **M** z wykorzystaniem RSA:\n",
        "\n",
        "1) Zakoduj $M$ jako liczbę.\n",
        "\n",
        "2) Oblicz: $C = M^e$ mod $n$."
      ]
    },
    {
      "cell_type": "markdown",
      "metadata": {
        "id": "FQvVgWWrHBX2"
      },
      "source": [
        "Naiwny algorytm deszyfrowania kryptogramu **C** z wykorzystaniem RSA:\n",
        "\n",
        "1) $M = C^d$ mod $n$.\n",
        "\n",
        "2) Zdekoduj wiadomość $M$ do jej pierwotnej postaci (np. stringa). \n"
      ]
    },
    {
      "cell_type": "markdown",
      "metadata": {
        "id": "mFRFP0BsHc9l"
      },
      "source": [
        "**Zadanie 3**\n",
        "\n",
        "Napisz metody szyfrujące i deszyfrujące wiadomość $M$ zgodnie z powyższym algorytmem. Zaszyfruj wiadomość, zdeszyfruj i wypisz oryginalny tekst na ekranie. Odpowiedz na pytanie: jaki warunek musi spełniać liczbowa reprezentacja wiadomości $M$, aby można ją było poprawnie zaszyfrować i zdeszyfrować?"
      ]
    },
    {
      "cell_type": "code",
      "execution_count": 3,
      "metadata": {
        "id": "N3y7NMf_HkuB"
      },
      "outputs": [],
      "source": [
        "def convert_to_int(msg):\n",
        "    if(type(msg)==str):\n",
        "        msg = [ord(i) for i in msg]\n",
        "    l = len(msg)\n",
        "    num = 0\n",
        "    base = 2**8 \n",
        "    for i in range(l):\n",
        "        num += msg[l-i-1]*(base**i)\n",
        "    return num\n",
        "    # return convert_array_to_int(msg)\n",
        "\n",
        "def convert_from_int(num):\n",
        "    A = []\n",
        "    base = 2**8\n",
        "    while(num > 0):\n",
        "        A.append(num%base)\n",
        "        num = (num-A[-1])//base\n",
        "    A.reverse()\n",
        "    A = [chr(i) for i in A]\n",
        "    A = ''.join(A)\n",
        "    return A\n",
        "\n",
        "def RSA_simple_encode(msg, public_k):\n",
        "    logger(f'encoding...')\n",
        "    M = convert_to_int(msg)\n",
        "    e,n = public_k\n",
        "    c = M**e % n\n",
        "    return c\n",
        "def RSA_simple_decode(c, private_k):\n",
        "    logger(f'decoding...')\n",
        "    d, n = private_k\n",
        "    M = pow(c, d, n) # c**d % n\n",
        "    return convert_from_int(M)\n"
      ]
    },
    {
      "cell_type": "code",
      "execution_count": 4,
      "metadata": {},
      "outputs": [
        {
          "name": "stdout",
          "output_type": "stream",
          "text": [
            "['0x41', '0x6c', '0x61', '0x20', '0x6d', '0x61', '0x20', '0x6b', '0x6f', '0x74', '0x61']\n",
            "0x416c61206d61206b6f7461\n",
            "Ala ma kota\n"
          ]
        }
      ],
      "source": [
        "# test conversion\n",
        "\n",
        "M = \"Ala ma kota\"\n",
        "print([hex(ord(i)) for i in M])\n",
        "msg = convert_to_int(M)\n",
        "print(hex(msg))\n",
        "x = convert_from_int(msg)\n",
        "print(x)"
      ]
    },
    {
      "cell_type": "code",
      "execution_count": 5,
      "metadata": {},
      "outputs": [
        {
          "name": "stdout",
          "output_type": "stream",
          "text": [
            "Ala ma kota\n",
            "LOGGER::private_key, public_key generated\n",
            "LOGGER::encoding...\n",
            "encoded: 8885802931972636400819081967051314742815917964232843002726056756618448726682420220398749404438511944962846571541943357713112153471423411655626228679559459891168893909086163838306599932745000401337055166602332536390175449608388296960528502445836811397021720401572897606741605390122866132985165680703762633368035859881648539508527488543342337777427304482692079487675798711893197750227820084075496564296555258233128884749809125214658611458805896304159119637960487397398758157521685004551605147780756909168784343345524374433814398977787540950556076990930635692316592953326582689145376317660570993245454738623732794223545\n"
          ]
        }
      ],
      "source": [
        "# test simple RSA\n",
        "\n",
        "M = \"Ala ma kota\"\n",
        "print(M)\n",
        "public_key, private_key = generate_key()\n",
        "c = RSA_simple_encode(M, public_key)\n",
        "print(f'encoded: {c}')"
      ]
    },
    {
      "cell_type": "code",
      "execution_count": 6,
      "metadata": {},
      "outputs": [
        {
          "name": "stdout",
          "output_type": "stream",
          "text": [
            "LOGGER::decoding...\n",
            "Ala ma kota\n"
          ]
        }
      ],
      "source": [
        "e = RSA_simple_decode(c, private_key)\n",
        "print(e)"
      ]
    },
    {
      "cell_type": "markdown",
      "metadata": {
        "id": "NjF8Fr_dN0s6"
      },
      "source": [
        "## Naiwny schemat podpisu cyfrowego"
      ]
    },
    {
      "cell_type": "markdown",
      "metadata": {
        "id": "AsvkSf9zN4i8"
      },
      "source": [
        "Naiwna metoda tworzenia podpisu z wiadmości $M$:\n",
        "\n",
        "1) Oblicz $h = H(M)$. H to uzgodniona funkcja skrótu, niech to będzie SHA-256.\n",
        "\n",
        "2) Zakoduj $h$ jako liczbę.\n",
        "\n",
        "3) Oblicz $SIG = h^d$ mod $n$.\n",
        "\n",
        "4) Wyślij parę $(M, SIG)$ weryfikującemu."
      ]
    },
    {
      "cell_type": "markdown",
      "metadata": {
        "id": "xcMiT4DhOoOt"
      },
      "source": [
        "Naiwna metoda weryfikacji podpisu $(M, SIG)$:\n",
        "\n",
        "1) Oblicz $h = H(M)$. H to uzgodniona funkcja skrótu, niech to będzie SHA-256.\n",
        "\n",
        "2) Zakoduj $h$ jako liczbę.\n",
        "\n",
        "3) Oblicz $VER = SIG^e$ mod $n$.\n",
        "\n",
        "4) Jeżeli $VER = h$, weryfikacja przebiegła pomyślnie, a w przeciwnym razie niepomyślnie."
      ]
    },
    {
      "cell_type": "markdown",
      "metadata": {
        "id": "Jx86zFg6PDDs"
      },
      "source": [
        "**Zadanie 4**\n",
        "\n",
        "Zaimplementuj naiwną metodę tworzenia i weryfikowania podpisu cyfrowego RSA."
      ]
    },
    {
      "cell_type": "code",
      "execution_count": 7,
      "metadata": {},
      "outputs": [
        {
          "name": "stdout",
          "output_type": "stream",
          "text": [
            "73760069341810921996523761465530118473534114516935146510527818014149546661271\n"
          ]
        }
      ],
      "source": [
        "def convert_without_overflow(msg, MAX_BYTES = 4294967296):\n",
        "    success = False\n",
        "    number_of_bytes = 32\n",
        "    new_msg = msg\n",
        "    while(number_of_bytes<MAX_BYTES and not success):\n",
        "        try:\n",
        "            new_msg = msg.to_bytes(number_of_bytes, byteorder='big')\n",
        "            success = True\n",
        "        except OverflowError:\n",
        "            number_of_bytes *= 2\n",
        "    if(success is False):\n",
        "        print('CONVERSION FAILED!!!')\n",
        "        return None\n",
        "    return new_msg\n",
        "\n",
        "\n",
        "def SHA256(msg):\n",
        "    if(type(msg)==str):\n",
        "        msg = msg.encode('ascii')\n",
        "    elif(type(msg)==int):\n",
        "        msg = convert_without_overflow(msg)\n",
        "    h = sha.new()\n",
        "    h.update(msg)\n",
        "    return int(h.hexdigest(), 16)\n",
        "\n",
        "#test\n",
        "x = SHA256(pow(2, 512))\n",
        "# x = SHA256('ala ma kota')\n",
        "print(x)"
      ]
    },
    {
      "cell_type": "code",
      "execution_count": 8,
      "metadata": {
        "id": "Y7OSfmf0PJ2Q"
      },
      "outputs": [],
      "source": [
        "def RSA_simple_sign(msg, private_k, H = SHA256):\n",
        "    h = H(msg)\n",
        "    d, n = private_k\n",
        "    sig = pow(h, d, n) # h**d % n\n",
        "    return sig\n",
        "\n",
        "def RSA_simple_verify(M, sig, public_k, H = SHA256):\n",
        "    e, n = public_k\n",
        "    h = H(M)\n",
        "    ver = pow(sig, e, n) # sig**e % n\n",
        "    return ver==h"
      ]
    },
    {
      "cell_type": "code",
      "execution_count": 9,
      "metadata": {},
      "outputs": [
        {
          "name": "stdout",
          "output_type": "stream",
          "text": [
            "LOGGER::private_key, public_key generated\n",
            "13898764422170759514417998296207789090831955948724614566044983741176135293375330496643004340549123030316690683756694367469621487863338348644371353500963605230121733652862833484900087836798579004567693736549141879402658793764652340503212400666497120783837632720171953333259803485805009458157938913459208288353508102694750041080965302327525118439556499023742281295130942263939366752627139663244851804243396046342501613386991533633221110373665671744965862634786902767616755394756423275876940119991320930818848397130225200191653867008483326864351035941205834144163042124444485326966452412694184011159313940553066726095861\n",
            "True\n"
          ]
        }
      ],
      "source": [
        "# test RSA signature\n",
        "\n",
        "M = \"Ala ma kota\"\n",
        "\n",
        "public_key, private_key = generate_key()\n",
        "sig = RSA_simple_sign(M, private_key)\n",
        "print(sig)\n",
        "verification = RSA_simple_verify(M, sig, public_key)\n",
        "print(verification)\n"
      ]
    },
    {
      "cell_type": "markdown",
      "metadata": {
        "id": "-6MsXDuaIj2C"
      },
      "source": [
        "## MGF 1\n",
        "\n",
        "W dalszej części laboratoriów będziemy potrzebowali generować maskę. Jedynym zatwierdzonym algorytmem który do tego służy jest *Mask Generation Function 1*, opisany w [RFC 8017](https://www.rfc-editor.org/rfc/rfc8017). Jest on stosunkowo prosty. "
      ]
    },
    {
      "cell_type": "markdown",
      "metadata": {
        "id": "wXuwYrpsJzkU"
      },
      "source": [
        "Parametry wejściowe:\n",
        "\n",
        "1) M - bajty wiadomości.\n",
        "\n",
        "2) len - pożądana długość zwórconej maski w bajtach.\n",
        "\n",
        "3) H - wybrana funkcja skrótu, zwracająca $n$ bitowy skrót. Niech to będzie SHA-256. Dla wygody przyjmijmy też, że $hlen = n / 8$ oznacza liczbę bajtów zwracaną przez naszą funkcję skrótu.\n",
        "\n",
        "Wyjściem funkcji są bajty tworzące maskę."
      ]
    },
    {
      "cell_type": "markdown",
      "metadata": {
        "id": "oriQJLCvJ0vM"
      },
      "source": [
        "Algorytm MGF-1:\n",
        "\n",
        "1) Dla 32-biotwego integera $i = 0, ..., ⌈ \\frac{len}{hlen}⌉ - 1$ wykonuj kroki 2 i 3.\n",
        "\n",
        "2) Oblicz tmp = H(M || i). Znak || to konkatenacja i chodzi tu o bajty wiadomości M oraz reprezentację w bajtach 32-bitowego itegera $i$.\n",
        "\n",
        "3) Oblicz output = output || tmp.\n",
        "\n",
        "4) Zwróc $len$ wiodących bajtów zmiennej output."
      ]
    },
    {
      "cell_type": "markdown",
      "metadata": {
        "id": "o-AkA1mHK7cp"
      },
      "source": [
        "**Zadanie 5**\n",
        "\n",
        "Zaprogramuj i przetestuj dla dowolnych wartości funkcję MGF1."
      ]
    },
    {
      "cell_type": "code",
      "execution_count": 10,
      "metadata": {
        "id": "rrBuKJWZLCV9"
      },
      "outputs": [],
      "source": [
        "def concatenate(x, y, base=32):\n",
        "    if(type(x) is not int):\n",
        "        int.from_bytes(x, byteorder='big')\n",
        "    res = (x<<base) | (y)\n",
        "    return res\n",
        "\n",
        "def get_x_bytes(num, x, base=2):\n",
        "    A = []\n",
        "    while(num > 0):\n",
        "        A.append(num%base)\n",
        "        num = (num-A[-1])//base\n",
        "    A.reverse()\n",
        "    A = A[:x]\n",
        "    num = 0\n",
        "    l = len(A)\n",
        "    for i in range(l):\n",
        "        num += A[l-i-1]*pow(base,i)\n",
        "    return num\n",
        "\n",
        "def mgf_1(M, l, H = SHA256):\n",
        "    h_l = 256//8\n",
        "    output = 0\n",
        "    for i in range(math.ceil(l/h_l)):\n",
        "        M1 = concatenate(M, i, base=32)\n",
        "        tmp = H(M1)\n",
        "        output = concatenate(output, tmp)\n",
        "    return get_x_bytes(output, l)"
      ]
    },
    {
      "cell_type": "code",
      "execution_count": 11,
      "metadata": {},
      "outputs": [
        {
          "name": "stdout",
          "output_type": "stream",
          "text": [
            "0x45ef1100aa3276\n",
            "0x22f\n"
          ]
        }
      ],
      "source": [
        "x, y = 0x45ef11, 0xaa3276\n",
        "z = concatenate(x,y,base=32)\n",
        "print(hex(z))\n",
        "q = get_x_bytes(z,10) #22f\n",
        "print(hex(q))"
      ]
    },
    {
      "cell_type": "code",
      "execution_count": 12,
      "metadata": {},
      "outputs": [
        {
          "name": "stdout",
          "output_type": "stream",
          "text": [
            "mgf_1 result = 14618399969025389310\n"
          ]
        }
      ],
      "source": [
        "# test mgf_1\n",
        "\n",
        "def generate_seed(l):\n",
        "    '''WYgeneruj losową tablicę bajtów o długości l'''\n",
        "    x = urandom(l)\n",
        "    x = [i for i in x]\n",
        "    return x\n",
        "\n",
        "l = 256\n",
        "seed = generate_seed(256)\n",
        "seed = convert_to_int(seed)\n",
        "# print(seed)\n",
        "x = mgf_1(seed, 64)\n",
        "print(f'mgf_1 result = {x}')"
      ]
    },
    {
      "cell_type": "markdown",
      "metadata": {
        "id": "K3gM9vGyPtna"
      },
      "source": [
        "## OAEP\n",
        "\n",
        "Nasz schemat ma na ten moment jedną sporą wadę, mianowicie rozmiar szyfrowanej wiadomości może być zbyt mały, czyniąc algorytm mniej bezpiecznym. Aby tego uniknąć, używamy algorytmu paddingu opisanego w [RFC 8017](https://www.rfc-editor.org/rfc/rfc8017#section-8), który zwie się *Optimal Assymetric Encryption Padding*."
      ]
    },
    {
      "cell_type": "markdown",
      "metadata": {
        "id": "PFJW4wW5QjjH"
      },
      "source": [
        "### OAEP encoding"
      ]
    },
    {
      "cell_type": "markdown",
      "metadata": {
        "id": "0BTXF8j6Reel"
      },
      "source": [
        "Parametry wejściowe:\n",
        "\n",
        "1) $H$ - funkcja skrótu SHA-256, oraz $hlen$ czyli długość zwracanego skrótu w bajtach.\n",
        "\n",
        "2) $k$ - długość liczby $n$ wyrażona w bajtach.\n",
        "\n",
        "3) $mlen$ - długość wiadomości wyrażona w bajtach.\n",
        "\n",
        "4) $M$ - bajty wiadomości.\n",
        "\n",
        "5) $mgf1$ - Mask Generation Function 1."
      ]
    },
    {
      "cell_type": "markdown",
      "metadata": {
        "id": "YWse9bSFRfmu"
      },
      "source": [
        "Algorytm:\n",
        "\n",
        "1) Jeżeli $mlen > k - 2*hlen - 2$ zwróc błąd.\n",
        "\n",
        "2) Oblicz: $lHash = H(\"\")$.\n",
        "\n",
        "3) Wygeneruj tablicę bajtów $PS$ składającą się z $k - mlen - 2*hlen - 2$ bajtów o wartości 0x00. Rozmiar $PS$ może wynosić 0.\n",
        "\n",
        "4) Oblicz: $DB = lHash || PS || 0x01 || M$. Długość $DB$ powinna wynosić $k - hlen - 1$ bajtów.\n",
        "\n",
        "5) Wygeneruj losową tablicę bajtów $seed$ o rozmiarze $hlen$.\n",
        "\n",
        "6) Oblicz: $dbMask = mgf1(seed, k - hlen - 1)$.\n",
        "\n",
        "7) Oblicz: $maskedDB = DB ⊕ dbMask$.\n",
        "\n",
        "8) Oblicz: $seedMask = mgf1(maskedDB, hlen)$.\n",
        "\n",
        "9) Oblicz: $maskedSeed = seed ⊕ seedMask$.\n",
        "\n",
        "10) Oblicz: $EM = 0x00 || maskedSeed || maskedDB$. Długość $EM$ powinna wynosić $k$.\n",
        "\n",
        "11) Zwróc $EM$."
      ]
    },
    {
      "cell_type": "markdown",
      "metadata": {
        "id": "lwJfZ28SUeKC"
      },
      "source": [
        "### OAEP decoding"
      ]
    },
    {
      "cell_type": "markdown",
      "metadata": {
        "id": "i21JfT9TUlXN"
      },
      "source": [
        "Parametry wejściowe:\n",
        "\n",
        "1) $H$ - funkcja skrótu SHA-256, oraz $hlen$ czyli długość zwracanego skrótu w bajtach.\n",
        "\n",
        "2) $k$ - rozmiar EM wyrażony w bajtach.\n",
        "\n",
        "3) $mgf1$ - Mask Generation Function 1.\n",
        "\n",
        "4) $EM$ - bajty zakodowanej wiadomości."
      ]
    },
    {
      "cell_type": "markdown",
      "metadata": {
        "id": "Toe-FHBzU1n-"
      },
      "source": [
        "Algorytm:\n",
        "\n",
        "1) Rozpakuj tablicę bajtów $EM$. Jej pierwszy bajt (najbardziej znaczący) przypisz do $Y$. Kolejne $hlen$ bajtów przypisz do $maskedSeed$, resztę do $maskedDB$. Czyli $EM = Y || maskedSeed || maskedDB$.\n",
        "\n",
        "2) Oblicz: $lHash = H(\"\")$.\n",
        "\n",
        "3) Oblicz: $seedMask = mgf1(maskedDB, hlen)$.\n",
        "\n",
        "4) Oblicz: $seed = maskedSeed ⊕ seedMask$.\n",
        "\n",
        "5) Oblicz: $dbMask = mgf1(seed, k - hlen - 1)$.\n",
        "\n",
        "6) Oblicz: $DB = maskedDB ⊕ dbMask$.\n",
        "\n",
        "7) Rozpkauj tablicę bakjtów $DB$. Pierwsze (najbardziej znaczące) $hlen$ bajtów przypisz do zmiennej $lHash'$. Następne $k - mlen - 2*hlen - 2$ bajtów do PS. Kolejny pojedynczy bajt powinien wynosić 0x01, jeżeli jest inaczej zwróć błąd i **zakończ działanie**. Resztę bajtów przypsiz do zmiennej $M$. Czyli: $DB = lHash' || PS || 0x01 || M$. \n",
        "\n",
        "8) Jeżeli $Y \\neq 0x00$ zwróć błąd i **zakończ działanie**.\n",
        "\n",
        "9) Jeżeli $lHash \\neq lHash'$ zwróć błąd i **zakończ działanie**.\n",
        "\n",
        "10) Zwróc $M$."
      ]
    },
    {
      "cell_type": "markdown",
      "metadata": {
        "id": "A0yx2wepX4n1"
      },
      "source": [
        "**Zadanie 6**\n",
        "\n",
        "Zaproogramuj kodowanie i dekodowanie OAEP. Zmodyfikuj algorytm szyfrowania RSA, tak, aby przed zaszyfrowaniem wiadomość była paddingowana. Zmodyfikuj algorytm deszyfrowania tak, aby po zdeszyfrowaniu konieczne było wywołanie metody dekodowania OAEP w celu odzyskania wiadomości."
      ]
    },
    {
      "cell_type": "code",
      "execution_count": 15,
      "metadata": {
        "id": "sA1oCpziYT6z"
      },
      "outputs": [],
      "source": [
        "M = \"Ala ma kota\"\n",
        "\n",
        "def throw(msg):\n",
        "    print(f'ERROR:{msg}')\n",
        "\n",
        "def gen_PS(byte_0_num):\n",
        "    '''Wygeneruj tablicę bajtów $PS$ składającą się z $k - mlen - 2*hlen - 2$ \n",
        "    bajtów o wartości 0x00. Rozmiar $PS$ może wynosić 0.'''\n",
        "    return [0x00 for i in range(byte_0_num)]\n",
        "\n",
        "def generate_seed(l):\n",
        "    '''WYgeneruj losową tablicę bajtów o długości l'''\n",
        "    x = urandom(l)\n",
        "    x = [i for i in x]\n",
        "    return x\n",
        "\n",
        "def combine_bytes(bytes):\n",
        "    l = len(bytes)\n",
        "    num = 0\n",
        "    base = 2**8 \n",
        "    for i in range(l):\n",
        "        num += bytes[l-i-1]*(base**i)\n",
        "    return num\n",
        "\n",
        "def unpack(num, lengths):\n",
        "    A = []\n",
        "    base = 2\n",
        "    while(num > 0):\n",
        "        A.append(num%base)\n",
        "        num = (num-A[-1])//base\n",
        "    A.reverse()\n",
        "    # get Y\n",
        "    result = []\n",
        "    idx=0\n",
        "    for l in lengths:\n",
        "        result.append(A[idx:(idx+l)])\n",
        "        l = idx+l\n",
        "    return [combine_bytes(i) for i in result]\n",
        "\n",
        "def oaep_encode(k, mlen, M, H = SHA256, hlen = 256, mgf = mgf_1):\n",
        "    if(mlen > (k-1*hlen-2)):\n",
        "        throw('error 1')\n",
        "        return None\n",
        "    lHash = H('')\n",
        "    PS = gen_PS(k - mlen - 2*hlen - 2)\n",
        "    DB = concatenate(concatenate(lHash, PS), concatenate(0x01,M))\n",
        "    # print(f'lHash, PS, 0x01, M = {lHash}:{PS}:01:{M}')\n",
        "    # print(f'DB = {DB}')\n",
        "    if(len(DB) != (k - hlen - 1)):\n",
        "        throw('error 2')\n",
        "        return None\n",
        "    seed = generate_seed(hlen)\n",
        "    dbMask = mgf(seed, k-hlen-1)\n",
        "    maskedDB = DB ^ dbMask\n",
        "    seedMask = mgf(maskedDB, hlen)\n",
        "    maskedSeed = seed ^ seedMask\n",
        "    EM = concatenate(concatenate(0x00, maskedSeed), maskedDB)\n",
        "    # print(f'0x00, maskedSeed, maskedDB = 00:{maskedSeed}:{maskedDB}')\n",
        "    # print(f'EM = {EM}')\n",
        "    return EM\n",
        "\n",
        "def oaep_decode(k, mlen, EM, H = SHA256, hlen = 256, mgf = mgf_1):\n",
        "    print(f'len EM should be {1 + hlen + (k - hlen - 1)}')\n",
        "    Y, maskedSeed, maskedDB = unpack(EM, [1, hlen, (k - hlen - 1)])\n",
        "    lHash = H('')\n",
        "    seedMask = mgf(maskedDB, hlen)\n",
        "    seed = maskedSeed ^ seedMask\n",
        "    dbMask = mgf(seed, k - hlen - 1)\n",
        "    DB = maskedDB ^ dbMask\n",
        "    print(f'len DB should be {hlen+ k-mlen-2*hlen-2+ 1+ mlen}')\n",
        "    lHash2, PS, M = unpack(DB, [hlen, k-mlen-2*hlen-2, 1, mlen])\n",
        "    if(Y != 0x00 or lHash != lHash2):\n",
        "        return None\n",
        "    return M\n",
        "    "
      ]
    },
    {
      "cell_type": "code",
      "execution_count": 18,
      "metadata": {},
      "outputs": [],
      "source": [
        "# RSA\n",
        "\n",
        "def RSA_oaep_encode(msg, public_k):\n",
        "    logger(f'encoding...')\n",
        "    M = convert_to_int(msg)\n",
        "    e,n = public_k\n",
        "    M = oaep_encode(n.bit_length()//8, M.bit_length()//8, M)\n",
        "    c = M**e % n\n",
        "    return c\n",
        "\n",
        "def RSA_oaep_decode(c, private_k):\n",
        "    logger(f'decoding...')\n",
        "    d, n = private_k\n",
        "    M = pow(c, d, n) # c**d % n\n",
        "    M = oaep_decode(n.bit_length()//8, M.bit_length()//8, M)\n",
        "    return convert_from_int(M)"
      ]
    },
    {
      "cell_type": "code",
      "execution_count": 19,
      "metadata": {},
      "outputs": [
        {
          "name": "stdout",
          "output_type": "stream",
          "text": [
            "Ala ma kota\n",
            "LOGGER::private_key, public_key generated\n",
            "LOGGER::encoding...\n",
            "ERROR:error 1\n"
          ]
        },
        {
          "ename": "TypeError",
          "evalue": "unsupported operand type(s) for ** or pow(): 'NoneType' and 'int'",
          "output_type": "error",
          "traceback": [
            "\u001b[1;31m---------------------------------------------------------------------------\u001b[0m",
            "\u001b[1;31mTypeError\u001b[0m                                 Traceback (most recent call last)",
            "\u001b[1;32m~\\AppData\\Local\\Temp/ipykernel_5136/507701963.py\u001b[0m in \u001b[0;36m<module>\u001b[1;34m\u001b[0m\n\u001b[0;32m      2\u001b[0m \u001b[0mprint\u001b[0m\u001b[1;33m(\u001b[0m\u001b[0mM\u001b[0m\u001b[1;33m)\u001b[0m\u001b[1;33m\u001b[0m\u001b[1;33m\u001b[0m\u001b[0m\n\u001b[0;32m      3\u001b[0m \u001b[0mpublic_key\u001b[0m\u001b[1;33m,\u001b[0m \u001b[0mprivate_key\u001b[0m \u001b[1;33m=\u001b[0m \u001b[0mgenerate_key\u001b[0m\u001b[1;33m(\u001b[0m\u001b[1;33m)\u001b[0m\u001b[1;33m\u001b[0m\u001b[1;33m\u001b[0m\u001b[0m\n\u001b[1;32m----> 4\u001b[1;33m \u001b[0mc\u001b[0m \u001b[1;33m=\u001b[0m \u001b[0mRSA_oaep_encode\u001b[0m\u001b[1;33m(\u001b[0m\u001b[0mM\u001b[0m\u001b[1;33m,\u001b[0m \u001b[0mpublic_key\u001b[0m\u001b[1;33m)\u001b[0m\u001b[1;33m\u001b[0m\u001b[1;33m\u001b[0m\u001b[0m\n\u001b[0m\u001b[0;32m      5\u001b[0m \u001b[0mprint\u001b[0m\u001b[1;33m(\u001b[0m\u001b[1;34mf'encoded: {c}'\u001b[0m\u001b[1;33m)\u001b[0m\u001b[1;33m\u001b[0m\u001b[1;33m\u001b[0m\u001b[0m\n",
            "\u001b[1;32m~\\AppData\\Local\\Temp/ipykernel_5136/477068449.py\u001b[0m in \u001b[0;36mRSA_oaep_encode\u001b[1;34m(msg, public_k)\u001b[0m\n\u001b[0;32m      6\u001b[0m     \u001b[0me\u001b[0m\u001b[1;33m,\u001b[0m\u001b[0mn\u001b[0m \u001b[1;33m=\u001b[0m \u001b[0mpublic_k\u001b[0m\u001b[1;33m\u001b[0m\u001b[1;33m\u001b[0m\u001b[0m\n\u001b[0;32m      7\u001b[0m     \u001b[0mM\u001b[0m \u001b[1;33m=\u001b[0m \u001b[0moaep_encode\u001b[0m\u001b[1;33m(\u001b[0m\u001b[0mn\u001b[0m\u001b[1;33m.\u001b[0m\u001b[0mbit_length\u001b[0m\u001b[1;33m(\u001b[0m\u001b[1;33m)\u001b[0m\u001b[1;33m//\u001b[0m\u001b[1;36m8\u001b[0m\u001b[1;33m,\u001b[0m \u001b[0mM\u001b[0m\u001b[1;33m.\u001b[0m\u001b[0mbit_length\u001b[0m\u001b[1;33m(\u001b[0m\u001b[1;33m)\u001b[0m\u001b[1;33m//\u001b[0m\u001b[1;36m8\u001b[0m\u001b[1;33m,\u001b[0m \u001b[0mM\u001b[0m\u001b[1;33m)\u001b[0m\u001b[1;33m\u001b[0m\u001b[1;33m\u001b[0m\u001b[0m\n\u001b[1;32m----> 8\u001b[1;33m     \u001b[0mc\u001b[0m \u001b[1;33m=\u001b[0m \u001b[0mM\u001b[0m\u001b[1;33m**\u001b[0m\u001b[0me\u001b[0m \u001b[1;33m%\u001b[0m \u001b[0mn\u001b[0m\u001b[1;33m\u001b[0m\u001b[1;33m\u001b[0m\u001b[0m\n\u001b[0m\u001b[0;32m      9\u001b[0m     \u001b[1;32mreturn\u001b[0m \u001b[0mc\u001b[0m\u001b[1;33m\u001b[0m\u001b[1;33m\u001b[0m\u001b[0m\n\u001b[0;32m     10\u001b[0m \u001b[1;33m\u001b[0m\u001b[0m\n",
            "\u001b[1;31mTypeError\u001b[0m: unsupported operand type(s) for ** or pow(): 'NoneType' and 'int'"
          ]
        }
      ],
      "source": [
        "M = \"Ala ma kota\"\n",
        "print(M)\n",
        "public_key, private_key = generate_key()\n",
        "c = RSA_oaep_encode(M, public_key)\n",
        "print(f'encoded: {c}')"
      ]
    },
    {
      "cell_type": "code",
      "execution_count": null,
      "metadata": {},
      "outputs": [],
      "source": [
        "e = RSA_oaep_decode(c, private_key)\n",
        "print(e)"
      ]
    },
    {
      "cell_type": "markdown",
      "metadata": {
        "id": "ug2e_I03YoR1"
      },
      "source": [
        "## EMSA - PSS\n",
        "\n",
        "Utworzenie bezpiecznej sygnatury RSA wymaga zastowania algorytmu *Encoding Method for Signature with Appendix - Probabilistic Signature Scheme* ."
      ]
    },
    {
      "cell_type": "markdown",
      "metadata": {
        "id": "KrWpFTRHZSA7"
      },
      "source": [
        "### EMSA encoding"
      ]
    },
    {
      "cell_type": "markdown",
      "metadata": {
        "id": "bNPN9mqIZT5F"
      },
      "source": [
        "Parametry wejściowe:\n",
        "\n",
        "1) $H$ - funkcja skrótu SHA-256, oraz $hlen$ czyli długość zwracanego skrótu w bajtach.\n",
        "\n",
        "2) $slen$ - długość soli w bajtach, powinna być równa $hlen$.\n",
        "\n",
        "3) $M$ - bajty wiadomości do podpisania.\n",
        "\n",
        "4) $mgf1$ - Mask Generation Function 1.\n",
        "\n",
        "5) $emBits$ - pożądana długość sygnatury w bitach. Jest to najczęściej długość bitowa liczby modulus $n$ pomniejszona o jeden, czyli w naszym przypadku 2047.\n",
        "\n",
        "6) $emlen$ - długość sygnatury w bajtach, równa długości parametru $n$ wyrażonego w bajtach.\n"
      ]
    },
    {
      "cell_type": "markdown",
      "metadata": {
        "id": "6-0Vzuzf_f81"
      },
      "source": [
        "Algorytm:\n",
        "\n",
        "1) Oblicz: $mHash = H(M)$.\n",
        "\n",
        "2) Jeżeli $emlen < hlen + slen + 2$ **zakończ i zwróć błąd**.\n",
        "\n",
        "3) Wygeneruj tablicę losowych bajtów $salt$ o długości $slen$.\n",
        "\n",
        "4) Oblicz: $M' = 0x00 00 00 00 00 00 00 00 || mHash || salt$. Długość $M'$ to $8 + hlen + slen$.\n",
        "\n",
        "5) Oblicz: $mHash' = H(M')$.\n",
        "\n",
        "6) Wygeneruj tablicę $PS$ składającą się z bajtów 0x00 o długości $emlen - slen - hlen - 2$.\n",
        "\n",
        "7) Oblicz: $DB = PS || 0x01 || salt$. Długość $DB$ powinna wynosić $emlen - hlen - 1$ bajtów.\n",
        "\n",
        "8) Oblicz: $dbMask = mgf1(mHash', emlen - hlen - 1)$.\n",
        "\n",
        "9) Oblicz: $maskedDB = DB ⊕ dbMask$.\n",
        "\n",
        "10) Ustaw $8 * emlen - emBits$ **najbardziej znaczących** bitów $maskedDB$ na wartości 0.\n",
        "\n",
        "11) Oblicz: $EM = maskedDB || mHash' || 0xbc$.\n",
        "\n",
        "12) Zwróć $EM$.\n"
      ]
    },
    {
      "cell_type": "markdown",
      "metadata": {
        "id": "HWbbbw1DCGpr"
      },
      "source": [
        "## EMSA decoding"
      ]
    },
    {
      "cell_type": "markdown",
      "metadata": {
        "id": "xR6QyzduCIoc"
      },
      "source": [
        "Parametry wejściowe:\n",
        "\n",
        "1) $H$ - funkcja skrótu SHA-256, oraz $hlen$ czyli długość zwracanego skrótu w bajtach.\n",
        "\n",
        "2) $slen$ - długość soli w bajtach, powinna być równa $hlen$.\n",
        "\n",
        "3) $EM$ - sygnatura wiadomości $M$.\n",
        "\n",
        "4) $M$ - bajty wiadomości do weryfikacji.\n",
        "\n",
        "4) $mgf1$ - Mask Generation Function 1.\n",
        "\n",
        "5) $emBits$ - długość sygnatury w bitach. Jest to najczęściej długość bitowa liczby modulus $n$ pomniejszona o jeden, czyli w naszym przypadku 2047.\n",
        "\n",
        "6) $emlen$ - długość sygnatury w bajtach, równa długości parametru $n$ wyrażonego w bajtach."
      ]
    },
    {
      "cell_type": "markdown",
      "metadata": {
        "id": "MqZUQgT6CspI"
      },
      "source": [
        "Algorytm:\n",
        "\n",
        "1) Oblicz: $mHash = H(M)$.\n",
        "\n",
        "2) Jeżeli $emlen < hlen + slen + 2$ **zakończ i zwróć błąd weryfikacji**.\n",
        "\n",
        "3) Jeżeli ostatni bajt (najmniej znaczący) $EM$ nie ma wartości 0xbc **zakończ i zwróć błąd weryfikacji**.\n",
        "\n",
        "4) Podstaw $emlen - hlen - 1$ najbardziej znaczących bajtów do $maskedDB$ oraz kolejne $hlen$ bajtów do $mHash'$.\n",
        "\n",
        "5) Jeżeli $8 * emlen - emBits$ najbardziej znaczących bitów $maskedDB$ nie ma wartości 0, **zakończ i zwróć błąd weryfikacji**.\n",
        "\n",
        "6) Oblicz: $dbMask = mgf1(mHash', emlen - hlen - 1)$.\n",
        "\n",
        "7) Oblicz: $DB = maskedDB ⊕ dbMask$.\n",
        "\n",
        "8) Ustaw $8 * emlen - emBits$ najbardziej znaczących bitów $DB$ na 0.\n",
        "\n",
        "9) Jeżeli $emlen - hlen - slen - 2$ najbardziej znaczących bajtów $DB$ nie posiada wartości 0x00 lub gdy bajt na pozycji $emlen - hlen - slen - 1$ (licząc od najbardziej znaczącego) nie posiada wartości 0x01 **zakończ i zwróć błąd weryfikacji**.\n",
        "\n",
        "10) Przypisz do zmiennej $salt$ dokładnie $slen$ najmniej znaczących bajtów $DB$.\n",
        "\n",
        "11) Oblicz: $M' = 0x00 00 00 00 00 00 00 00 || mHash || salt$. Długość $M'$ to $8 + hlen + slen$.\n",
        "\n",
        "12) Oblicz $mHash'' = H(M')$.\n",
        "\n",
        "13) Jeżeli $mHash' \\neq mHash''$ **zakończ i zwróć błąd weryfikacji**, w przeciwnym razie **weryfikacja powiodła się**.\n"
      ]
    },
    {
      "cell_type": "markdown",
      "metadata": {
        "id": "wrxJHSkyIvz5"
      },
      "source": [
        "**Zadanie 7**\n",
        "\n",
        "Zaprogramuj kodowanie i dekodowanie EMSA, a następnie popraw algorytmy tworzenia i weryfikacji podpisu cyfrowego RSA. Tworzenie podpisu powinno wyglądać tak, że wiadomość najpierw jest kodowana z wykorzystaniem EMSA, a później tworzony jest popdis z wykorzystaniem klucza prywatnego. Dekodowanie powinno wyglądać tak, że najpierw używany jest klucz publiczny do odtworzenia podpisu EMSA, a następnie wykorzystywane jest dekodowanie EMSA w celu weryfikacji."
      ]
    },
    {
      "cell_type": "code",
      "execution_count": 78,
      "metadata": {
        "id": "S-TbQA4NJrl3"
      },
      "outputs": [],
      "source": [
        "m = \"Ala ma podpis\"\n",
        "\n",
        "def generate_salt(slen):\n",
        "    pass\n",
        "\n",
        "def convert_int_to_arr(num):\n",
        "    A = []\n",
        "    base = 2**8\n",
        "    while(num > 0):\n",
        "        A.append(num%base)\n",
        "        num = (num-A[-1])//base\n",
        "    A.reverse()\n",
        "    return A\n",
        "\n",
        "def set_x_bytes(num, x, base=2):\n",
        "    A = []\n",
        "    while(num > 0):\n",
        "        A.append(num%base)\n",
        "        num = (num-A[-1])//base\n",
        "    A.reverse()\n",
        "    # A = A[:x]\n",
        "    for i in range(x):\n",
        "        A[i] = 0x00\n",
        "    num = 0\n",
        "    l = len(A)\n",
        "    for i in range(l):\n",
        "        num += A[l-i-1]*(base**i)\n",
        "    return num\n",
        "\n",
        "def emsa_encoding(M, emBits, emlen, slen, H = SHA256, hlen = 256, mgf = mgf_1):\n",
        "    mHash = H(M)\n",
        "    if(emlen < hlen+slen+2):\n",
        "        throw(f'error emsa encoding')\n",
        "        return None\n",
        "    salt = generate_salt(hlen)\n",
        "    M2 = concatenate(0x0000000000000000, concatenate(mHash,salt))\n",
        "    assert len(M2) == 8+hlen+slen\n",
        "    mHash2 = H(M2)\n",
        "    PS = gen_PS(emlen-slen-hlen-2)\n",
        "    DB = concatenate(PS, concatenate(0x01,salt))\n",
        "    assert len(DB) == emlen-hlen-1\n",
        "    dbMask = mgf(mHash2, emlen-hlen-1)\n",
        "    maskedDB = DB ^ dbMask\n",
        "    maskedDB = set_x_bytes(maskedDB, 8*emlen-emBits)\n",
        "    EM = concatenate(maskedDB, concatenate(mHash2, 0xbc))\n",
        "    return EM\n",
        "\n",
        "def emsa_decoding(M, EM, emBits, emlen, slen, H = SHA256, hlen = 256, mgf = mgf_1):\n",
        "    mHash = H(M)\n",
        "    if(emlen < hlen+slen+2):\n",
        "        throw(f'error emsa decoding')\n",
        "        return None\n",
        "    em_bytes = convert_int_to_arr(EM)[-1]\n",
        "    if(0xbc != em_bytes):\n",
        "        throw(f'error emsa: last bit check failed')\n",
        "        return None\n",
        "    # instructions unclear\n",
        "    byte_num = 8*emlen-emBits\n",
        "    em_bytes1 = get_x_bytes(EM, byte_num+hlen)\n",
        "    em_bytes2 = get_x_bytes(em_bytes1, byte_num)\n",
        "    set_x_bytes(maskedDB, em_bytes1)\n",
        "    set_x_bytes(mHash2, em_bytes1)\n",
        "    if(get_x_bytes(maskedDB) != 0x00):\n",
        "        throw(f'error emsa: maskedDB check failed')\n",
        "        return None\n",
        "    dbMask = mgf(mHash2, emlen-hlen-1)\n",
        "    DB = maskedDB ^ dbMask\n",
        "    set_x_bytes(DB, byte_num)\n",
        "    #step 9: verification\n",
        "    #step 10"
      ]
    },
    {
      "cell_type": "code",
      "execution_count": null,
      "metadata": {},
      "outputs": [],
      "source": [
        "def RSA_emsa_encode(msg, public_k):\n",
        "    msg_emsa = emsa_encoding()\n",
        "\n",
        "def RSA_simple_encode(msg, public_k):\n",
        "    M = convert_to_int(msg)\n",
        "    nlen = 2048 # ????\n",
        "    # public_k, private_k = generate_key(nlen)\n",
        "    e,n = public_k\n",
        "    c = M**e % n\n",
        "    return c\n",
        "\n",
        "def RSA_simple_decode(c, private_k):\n",
        "    d, n = private_k\n",
        "    M = c**d % n\n",
        "    return convert_from_int(M)\n"
      ]
    },
    {
      "cell_type": "markdown",
      "metadata": {
        "id": "d7txLS64JZI-"
      },
      "source": [
        "## RSA - KEM\n",
        "\n",
        "RSA - KEM, czyli z ang. *Key Encapsulation Mechanism* to prosty algorytm dedykowany do wymiany klucza symetrycznego. Obie strony dysponują uzgodnioną funkcją skótu H. Instancja, która chce **otrzymać** tajny klucz do komunikacji symetrycznej generuje klucze RSA i udostępnia swój klucz publiczny. Instancja, która chce wygenerować tajny klucz do komunikacji symetrycznej dysponuje kluczem publicznym instancji, która chce go otrzymać."
      ]
    },
    {
      "cell_type": "markdown",
      "metadata": {
        "id": "tl7cu30PJ1lk"
      },
      "source": [
        "Instancja generująca klucz symetryczny:\n",
        "\n",
        "1) Znajdź losową liczbę $RAND$ spełniającą warunki OAEP.\n",
        "\n",
        "2) Oblicz: $KEY = H(RAND)$. Jeżeli trzeba, przytnij $KEY$ do odpowiedniej długości.\n",
        "\n",
        "3) Oblicz: $CIPHERED\\_KEY = RSA\\_OAEP\\_ENCODING(KEY, (e, n))$.\n",
        "\n",
        "4) Wyślij $CIPHERED\\_KEY$."
      ]
    },
    {
      "cell_type": "markdown",
      "metadata": {
        "id": "oFB9JAwULw70"
      },
      "source": [
        "Instancja otrzymująca zaszyfrowany klucz symetryczny:\n",
        "\n",
        "1) Oblicz: $KEY = RSA\\_OAEP\\_DECODING(CIPHERED\\_KEY, (d, n))$\n",
        "\n",
        "2) Jeżeli trzeba przytnij $KEY$ do odpowiedniej długości."
      ]
    },
    {
      "cell_type": "markdown",
      "metadata": {
        "id": "386c_pDZMSRG"
      },
      "source": [
        "Np. AES występuje w wersji 128b, 192b i 256b. Jeżeli jako H przyjmiemy więc SHA-256, nie trzeba przycinać klucza dla algorytmu AES-256. W przeciwnym razie należy klucz odpowiednio przyciąć (z lewej lub prawej, byle obie strony tak samo) i to ta wartość staje się kluczem symetrycznym."
      ]
    },
    {
      "cell_type": "markdown",
      "metadata": {
        "id": "7N66NPBBMpLS"
      },
      "source": [
        "**Zadanie 8**\n",
        "\n",
        "Zasymuluj takową wymianę (bez przycinania klucza)."
      ]
    },
    {
      "cell_type": "code",
      "execution_count": null,
      "metadata": {
        "id": "Td_Qg2zlMuRt"
      },
      "outputs": [],
      "source": [
        "# Your code here"
      ]
    }
  ],
  "metadata": {
    "colab": {
      "provenance": []
    },
    "kernelspec": {
      "display_name": "Python 3",
      "name": "python3"
    },
    "language_info": {
      "codemirror_mode": {
        "name": "ipython",
        "version": 3
      },
      "file_extension": ".py",
      "mimetype": "text/x-python",
      "name": "python",
      "nbconvert_exporter": "python",
      "pygments_lexer": "ipython3",
      "version": "3.9.13"
    }
  },
  "nbformat": 4,
  "nbformat_minor": 0
}
